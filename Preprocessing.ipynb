{
 "cells": [
  {
   "cell_type": "markdown",
   "metadata": {},
   "source": [
    "# Convert video to images"
   ]
  },
  {
   "cell_type": "markdown",
   "metadata": {},
   "source": [
    "### Load necessary libraries"
   ]
  },
  {
   "cell_type": "code",
   "execution_count": null,
   "metadata": {},
   "outputs": [],
   "source": [
    "import numpy as np\n",
    "import cv2\n",
    "import os\n",
    "import random"
   ]
  },
  {
   "cell_type": "markdown",
   "metadata": {},
   "source": [
    "### Convert the normal saucer mp4 video to dataset of images"
   ]
  },
  {
   "cell_type": "code",
   "execution_count": null,
   "metadata": {},
   "outputs": [],
   "source": [
    "cap = cv2.VideoCapture(r'normal.mp4')\n",
    "if (cap.isOpened()== False):\n",
    "  print(\"Error opening video stream or file\")\n",
    " \n",
    "os.chdir(r'saucer_data\\train\\normal')\n",
    "# Read until video is completed\n",
    "i= 1\n",
    "while(cap.isOpened()):\n",
    "  # Capture frame-by-frame\n",
    "  ret, frame = cap.read()\n",
    "\n",
    "  if ret == True:\n",
    "    frame = cv2.resize(frame, (0, 0), fx=0.25, fy=0.25)\n",
    "    gray = cv2.cvtColor(frame, cv2.COLOR_BGR2GRAY)\n",
    "    circles = cv2.HoughCircles(gray, cv2.HOUGH_GRADIENT, 1.2, 100)\n",
    "    \n",
    "    if circles is not None:\n",
    "      circles = np.round(circles[0, :]).astype(\"int\")\n",
    "      for (x, y, r) in circles:\n",
    "        pass\n",
    "      # Display the resulting frame\n",
    "      frame = frame[y-r:y+r,x-r:x+r]\n",
    "      try:\n",
    "        string = 'normal_' + str(i) + '.jpg'\n",
    "        cv2.imwrite(string,frame)\n",
    "        i += 1\n",
    "      except:\n",
    "        pass\n",
    "    # Press Q on keyboard to  exit\n",
    "    if cv2.waitKey(25) & 0xFF == ord('q'):\n",
    "      break\n",
    " \n",
    "  # Break the loop\n",
    "  else:\n",
    "    break\n",
    " \n",
    "# When everything done, release the video capture object\n",
    "cap.release()\n",
    " \n",
    "# Closes all the frames\n",
    "cv2.destroyAllWindows()"
   ]
  },
  {
   "cell_type": "markdown",
   "metadata": {},
   "source": [
    "### Convert defect1 mp4 video to defect1 image dataset"
   ]
  },
  {
   "cell_type": "code",
   "execution_count": null,
   "metadata": {},
   "outputs": [],
   "source": [
    "cap = cv2.VideoCapture(r'defect1.mp4')\n",
    "if (cap.isOpened()== False):\n",
    "  print(\"Error opening video stream or file\")\n",
    " \n",
    "os.chdir(r'saucer_data\\train\\defect_1')\n",
    "# Read until video is completed\n",
    "i= 1\n",
    "while(cap.isOpened()):\n",
    "  # Capture frame-by-frame\n",
    "  ret, frame = cap.read()\n",
    "\n",
    "  if ret == True:\n",
    "    frame = cv2.resize(frame, (0, 0), fx=0.25, fy=0.25)\n",
    "    gray = cv2.cvtColor(frame, cv2.COLOR_BGR2GRAY)\n",
    "    circles = cv2.HoughCircles(gray, cv2.HOUGH_GRADIENT, 1.2, 100)\n",
    "    \n",
    "    if circles is not None:\n",
    "      circles = np.round(circles[0, :]).astype(\"int\")\n",
    "      for (x, y, r) in circles:\n",
    "        pass\n",
    "      # Display the resulting frame\n",
    "      frame = frame[y-r:y+r,x-r:x+r]\n",
    "      try:\n",
    "        string = 'defect1_' + str(i) + '.jpg'\n",
    "        cv2.imwrite(string,frame)\n",
    "        i += 1\n",
    "      except:\n",
    "        pass\n",
    "    # Press Q on keyboard to  exit\n",
    "    if cv2.waitKey(25) & 0xFF == ord('q'):\n",
    "      break\n",
    " \n",
    "  # Break the loop\n",
    "  else:\n",
    "    break\n",
    " \n",
    "# When everything done, release the video capture object\n",
    "cap.release()\n",
    " \n",
    "# Closes all the frames\n",
    "cv2.destroyAllWindows()"
   ]
  },
  {
   "cell_type": "markdown",
   "metadata": {},
   "source": [
    "### Convert defect2 mp4 video to defect2 image dataset"
   ]
  },
  {
   "cell_type": "code",
   "execution_count": null,
   "metadata": {},
   "outputs": [],
   "source": [
    "cap = cv2.VideoCapture(r'defect2.mp4')\n",
    "if (cap.isOpened()== False):\n",
    "  print(\"Error opening video stream or file\")\n",
    " \n",
    "os.chdir(r'saucer_data\\train\\defect_2')\n",
    "# Read until video is completed\n",
    "i= 1\n",
    "while(cap.isOpened()):\n",
    "  # Capture frame-by-frame\n",
    "  ret, frame = cap.read()\n",
    "\n",
    "  if ret == True:\n",
    "    frame = cv2.resize(frame, (0, 0), fx=0.25, fy=0.25)\n",
    "    gray = cv2.cvtColor(frame, cv2.COLOR_BGR2GRAY)\n",
    "    circles = cv2.HoughCircles(gray, cv2.HOUGH_GRADIENT, 1.2, 100)\n",
    "    \n",
    "    if circles is not None:\n",
    "      circles = np.round(circles[0, :]).astype(\"int\")\n",
    "      for (x, y, r) in circles:\n",
    "        pass\n",
    "      # Display the resulting frame\n",
    "      frame = frame[y-r:y+r,x-r:x+r]\n",
    "      try:\n",
    "        string = 'defect2_' + str(i) + '.jpg'\n",
    "        cv2.imwrite(string,frame)\n",
    "        i += 1\n",
    "      except:\n",
    "        pass\n",
    "    # Press Q on keyboard to  exit\n",
    "    if cv2.waitKey(25) & 0xFF == ord('q'):\n",
    "      break\n",
    " \n",
    "  # Break the loop\n",
    "  else:\n",
    "    break\n",
    " \n",
    "# When everything done, release the video capture object\n",
    "cap.release()\n",
    " \n",
    "# Closes all the frames\n",
    "cv2.destroyAllWindows()"
   ]
  },
  {
   "cell_type": "markdown",
   "metadata": {},
   "source": [
    "### Move some normal images from training to validation normal dataset"
   ]
  },
  {
   "cell_type": "code",
   "execution_count": null,
   "metadata": {},
   "outputs": [],
   "source": [
    "source = r'saucer_data\\train\\normal'\n",
    "destination = r'saucer_data\\validation\\normal'\n",
    "  \n",
    "allfiles = os.listdir(source)\n",
    "r = random.sample(allfiles,30)\n",
    "for i in r:\n",
    "    os.rename(source + \"\\\\\" +i, destination + \"\\\\\" + i)"
   ]
  },
  {
   "cell_type": "markdown",
   "metadata": {},
   "source": [
    "### Move some defect1 images from training to validation dataset"
   ]
  },
  {
   "cell_type": "code",
   "execution_count": null,
   "metadata": {},
   "outputs": [],
   "source": [
    "source = r'saucer_data\\train\\defect_1'\n",
    "destination = r'saucer_data\\validation\\defect_1'\n",
    "  \n",
    "allfiles = os.listdir(source)\n",
    "r = random.sample(allfiles,30)\n",
    "for i in r:\n",
    "    os.rename(source + \"\\\\\" +i, destination + \"\\\\\" + i)"
   ]
  },
  {
   "cell_type": "markdown",
   "metadata": {},
   "source": [
    "### Move some defect2 images from training to validation dataset"
   ]
  },
  {
   "cell_type": "code",
   "execution_count": null,
   "metadata": {},
   "outputs": [],
   "source": [
    "source = r'saucer_data\\train\\defect_2'\n",
    "destination = r'saucer_data\\validation\\defect_2'\n",
    "  \n",
    "allfiles = os.listdir(source)\n",
    "r = random.sample(allfiles,20)\n",
    "for i in r:\n",
    "    os.rename(source + \"\\\\\" +i, destination + \"\\\\\" + i)"
   ]
  },
  {
   "cell_type": "markdown",
   "metadata": {},
   "source": [
    "### Move some normal images from training to testing dataset"
   ]
  },
  {
   "cell_type": "code",
   "execution_count": null,
   "metadata": {},
   "outputs": [],
   "source": [
    "source = r'saucer_data\\train\\normal'\n",
    "destination = r'saucer_data\\test'\n",
    "\n",
    "allfiles = os.listdir(source)\n",
    "r = random.sample(allfiles,10)\n",
    "for i in r:\n",
    "    os.rename(source + \"\\\\\" +i, destination + \"\\\\\" + i)"
   ]
  },
  {
   "cell_type": "markdown",
   "metadata": {},
   "source": [
    "### Move some defect1 images from training to testing dataset"
   ]
  },
  {
   "cell_type": "code",
   "execution_count": null,
   "metadata": {},
   "outputs": [],
   "source": [
    "source = r'saucer_data\\train\\defect_1'\n",
    "destination = r'saucer_data\\test'\n",
    "\n",
    "allfiles = os.listdir(source)\n",
    "r = random.sample(allfiles,10)\n",
    "for i in r:\n",
    "    os.rename(source + \"\\\\\" +i, destination + \"\\\\\" + i)"
   ]
  },
  {
   "cell_type": "markdown",
   "metadata": {},
   "source": [
    "### Move some defect2 images from training to testing dataset"
   ]
  },
  {
   "cell_type": "code",
   "execution_count": null,
   "metadata": {},
   "outputs": [],
   "source": [
    "source = r'saucer_data\\train\\defect_2'\n",
    "destination = r'saucer_data\\test'\n",
    "\n",
    "allfiles = os.listdir(source)\n",
    "r = random.sample(allfiles,10)\n",
    "for i in r:\n",
    "    os.rename(source + \"\\\\\" +i, destination + \"\\\\\" + i)"
   ]
  },
  {
   "cell_type": "markdown",
   "metadata": {},
   "source": [
    "### Function check number of frames in a video"
   ]
  },
  {
   "cell_type": "code",
   "execution_count": null,
   "metadata": {},
   "outputs": [],
   "source": [
    "from imutils import is_cv3\n",
    "\n",
    "def count_frames(path, override=False):\n",
    "\t\n",
    "\tvideo = cv2.VideoCapture(path)\n",
    "\ttotal = 0\n",
    "\n",
    "\tif override:\n",
    "\t\ttotal = count_frames_manual(video)\n",
    "\n",
    "\telse:\n",
    "\t\ttry:\n",
    "\t\t\tif is_cv3():\n",
    "\t\t\t\ttotal = int(video.get(cv2.CAP_PROP_FRAME_COUNT))\n",
    "\t\t\telse:\n",
    "\t\t\t\ttotal = int(video.get(cv2.cv.CV_CAP_PROP_FRAME_COUNT))\n",
    "\t\texcept:\n",
    "\t\t\ttotal = count_frames_manual(video)\n",
    "\n",
    "\tvideo.release()\n",
    "\n",
    "\treturn total\n",
    "\n",
    "def count_frames_manual(video):\n",
    "\ttotal = 0\n",
    "\n",
    "\twhile True:\n",
    "\t\t(grabbed, frame) = video.read()\n",
    "\t \n",
    "\t\tif not grabbed:\n",
    "\t\t\tbreak\n",
    "\n",
    "\t\ttotal += 1\n",
    "\n",
    "\treturn total"
   ]
  },
  {
   "cell_type": "code",
   "execution_count": null,
   "metadata": {},
   "outputs": [],
   "source": [
    "count_frames('normal.mp4')"
   ]
  },
  {
   "cell_type": "code",
   "execution_count": null,
   "metadata": {},
   "outputs": [],
   "source": [
    "count_frames('normal.mp4',True)"
   ]
  }
 ],
 "metadata": {
  "interpreter": {
   "hash": "3ab3d5f8dec5bf1e3af2739e530a67e4b56b46e5431046229599de570b795f8d"
  },
  "kernelspec": {
   "display_name": "Python 3.8.8 64-bit",
   "language": "python",
   "name": "python3"
  },
  "language_info": {
   "codemirror_mode": {
    "name": "ipython",
    "version": 3
   },
   "file_extension": ".py",
   "mimetype": "text/x-python",
   "name": "python",
   "nbconvert_exporter": "python",
   "pygments_lexer": "ipython3",
   "version": "3.8.8"
  },
  "orig_nbformat": 4
 },
 "nbformat": 4,
 "nbformat_minor": 2
}
